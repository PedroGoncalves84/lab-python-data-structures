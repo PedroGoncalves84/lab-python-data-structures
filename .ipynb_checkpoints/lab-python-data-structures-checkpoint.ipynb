{
 "cells": [
  {
   "cell_type": "code",
   "execution_count": 1,
   "id": "778f4d9f-c4bf-437c-9890-88482b8d6e84",
   "metadata": {},
   "outputs": [
    {
     "name": "stdin",
     "output_type": "stream",
     "text": [
      "Enter the quantity for t-shirt:  63\n",
      "Enter the quantity for mug:  54326\n",
      "Enter the quantity for hat:  632\n",
      "Enter the quantity for book:  632\n",
      "Enter the quantity for keychain:  65656\n"
     ]
    },
    {
     "name": "stdout",
     "output_type": "stream",
     "text": [
      "Enter the names of 3 products the customer wants to order (choose from: t-shirt, mug, hat, book, keychain)\n"
     ]
    },
    {
     "name": "stdin",
     "output_type": "stream",
     "text": [
      "Enter product 1:  mug\n",
      "Enter product 2:  hat\n",
      "Enter product 3:  book\n"
     ]
    },
    {
     "name": "stdout",
     "output_type": "stream",
     "text": [
      "customer orders:\n",
      "mug\n",
      "book\n",
      "hat\n",
      "Order Statistics:\n",
      "Total Products Ordered: 3\n",
      "Percentage Ordered per Product:\n",
      "mug: 0.00%\n",
      "book: 0.16%\n",
      "hat: 0.16%\n",
      "Updated Inventory:\n",
      "t-shirt: 63\n",
      "mug: 54325\n",
      "hat: 631\n",
      "book: 631\n",
      "keychain: 65656\n"
     ]
    }
   ],
   "source": [
    "products = [\"t-shirt\", \"mug\", \"hat\", \"book\", \"keychain\"]\n",
    "\n",
    "inventory = {}\n",
    "\n",
    "for product in products:\n",
    "    quantity = int(input(f\"Enter the quantity for {product}: \"))\n",
    "    inventory[product] = quantity\n",
    "\n",
    "customer_orders=set()\n",
    "\n",
    "\n",
    "print(\"Enter the names of 3 products the customer wants to order (choose from: t-shirt, mug, hat, book, keychain)\")\n",
    "for i in range(1,4):\n",
    "    order = input(f\"Enter product {i}: \")\n",
    "    if order in products:\n",
    "        customer_orders.add(order)\n",
    "    else:\n",
    "        print(\"Invalid product name. Please try again.\")\n",
    "        \n",
    "print(\"customer orders:\")\n",
    "for item in customer_orders:\n",
    "    print(item)\n",
    "\n",
    "order_percentages = {}\n",
    "\n",
    "for product in customer_orders:\n",
    "    original_quantity = inventory[product]\n",
    "    if original_quantity > 0:\n",
    "        percentage = (1 / original_quantity) * 100\n",
    "        order_percentages[product] = percentage\n",
    "    else:\n",
    "        order_percentages[product] = 0.0\n",
    "\n",
    "order_status = (len(customer_orders), order_percentages)\n",
    "\n",
    "print(\"Order Statistics:\")\n",
    "print(f\"Total Products Ordered: {order_status[0]}\")\n",
    "print(\"Percentage Ordered per Product:\")\n",
    "for product, percent in order_status[1].items():\n",
    "    print(f\"{product}: {percent:.2f}%\")\n",
    "\n",
    "for product in customer_orders:\n",
    "    if inventory[product] > 0:\n",
    "        inventory[product] -= 1\n",
    "\n",
    "print(\"Updated Inventory:\")\n",
    "for product, quantity in inventory.items():\n",
    "    print(f\"{product}: {quantity}\")\n",
    "\n",
    "\n",
    "    "
   ]
  },
  {
   "cell_type": "code",
   "execution_count": null,
   "id": "e509e8fa-6adc-4ecc-99a5-b728547f6a48",
   "metadata": {},
   "outputs": [],
   "source": []
  }
 ],
 "metadata": {
  "kernelspec": {
   "display_name": "Python 3 (ipykernel)",
   "language": "python",
   "name": "python3"
  },
  "language_info": {
   "codemirror_mode": {
    "name": "ipython",
    "version": 3
   },
   "file_extension": ".py",
   "mimetype": "text/x-python",
   "name": "python",
   "nbconvert_exporter": "python",
   "pygments_lexer": "ipython3",
   "version": "3.12.7"
  }
 },
 "nbformat": 4,
 "nbformat_minor": 5
}
